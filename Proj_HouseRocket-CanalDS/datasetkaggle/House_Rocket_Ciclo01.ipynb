{
 "cells": [
  {
   "cell_type": "markdown",
   "id": "ab37b999",
   "metadata": {},
   "source": [
    "# Explorando q tentando trabalhar seguindo essas série de vídeos:\n",
    "\n",
    "\n",
    "https://www.youtube.com/watch?v=ZjRkGSBCVwM&list=PLZlkyCIi8bMot7zPA18szWVAmChYLoAa3&ab_channel=SejaUmDataScientist\n",
    "\n"
   ]
  },
  {
   "cell_type": "markdown",
   "id": "a1f43a75",
   "metadata": {},
   "source": [
    "# Imports:\n"
   ]
  },
  {
   "cell_type": "code",
   "execution_count": 151,
   "id": "b3667e1d",
   "metadata": {},
   "outputs": [],
   "source": [
    "import pandas as pd\n",
    "import numpy as np\n",
    "import matplotlib.pyplot as plt\n",
    "#buscar na documentação as inf e requesitos de entrada de dados\n",
    "from sklearn import linear_model as lm\n",
    "from sklearn import model_selection as ms\n",
    "from sklearn.model_selection import train_test_split\n",
    "from sklearn import metrics as m\n",
    "from sklearn.metrics import mean_absolute_error"
   ]
  },
  {
   "cell_type": "markdown",
   "id": "0b0a217f",
   "metadata": {},
   "source": [
    "# Loading Preparation"
   ]
  },
  {
   "cell_type": "code",
   "execution_count": 15,
   "id": "47c0ac52",
   "metadata": {},
   "outputs": [],
   "source": [
    "df_raw = pd.read_csv('kc_house_data.csv')\n",
    "\n"
   ]
  },
  {
   "cell_type": "code",
   "execution_count": 17,
   "id": "ef73fbba",
   "metadata": {},
   "outputs": [
    {
     "data": {
      "text/html": [
       "<div>\n",
       "<style scoped>\n",
       "    .dataframe tbody tr th:only-of-type {\n",
       "        vertical-align: middle;\n",
       "    }\n",
       "\n",
       "    .dataframe tbody tr th {\n",
       "        vertical-align: top;\n",
       "    }\n",
       "\n",
       "    .dataframe thead th {\n",
       "        text-align: right;\n",
       "    }\n",
       "</style>\n",
       "<table border=\"1\" class=\"dataframe\">\n",
       "  <thead>\n",
       "    <tr style=\"text-align: right;\">\n",
       "      <th></th>\n",
       "      <th>id</th>\n",
       "      <th>date</th>\n",
       "      <th>price</th>\n",
       "      <th>bedrooms</th>\n",
       "      <th>bathrooms</th>\n",
       "      <th>sqft_living</th>\n",
       "      <th>sqft_lot</th>\n",
       "      <th>floors</th>\n",
       "      <th>waterfront</th>\n",
       "      <th>view</th>\n",
       "      <th>...</th>\n",
       "      <th>grade</th>\n",
       "      <th>sqft_above</th>\n",
       "      <th>sqft_basement</th>\n",
       "      <th>yr_built</th>\n",
       "      <th>yr_renovated</th>\n",
       "      <th>zipcode</th>\n",
       "      <th>lat</th>\n",
       "      <th>long</th>\n",
       "      <th>sqft_living15</th>\n",
       "      <th>sqft_lot15</th>\n",
       "    </tr>\n",
       "  </thead>\n",
       "  <tbody>\n",
       "    <tr>\n",
       "      <th>0</th>\n",
       "      <td>7129300520</td>\n",
       "      <td>20141013T000000</td>\n",
       "      <td>221900.0</td>\n",
       "      <td>3</td>\n",
       "      <td>1.00</td>\n",
       "      <td>1180</td>\n",
       "      <td>5650</td>\n",
       "      <td>1.0</td>\n",
       "      <td>0</td>\n",
       "      <td>0</td>\n",
       "      <td>...</td>\n",
       "      <td>7</td>\n",
       "      <td>1180</td>\n",
       "      <td>0</td>\n",
       "      <td>1955</td>\n",
       "      <td>0</td>\n",
       "      <td>98178</td>\n",
       "      <td>47.5112</td>\n",
       "      <td>-122.257</td>\n",
       "      <td>1340</td>\n",
       "      <td>5650</td>\n",
       "    </tr>\n",
       "    <tr>\n",
       "      <th>1</th>\n",
       "      <td>6414100192</td>\n",
       "      <td>20141209T000000</td>\n",
       "      <td>538000.0</td>\n",
       "      <td>3</td>\n",
       "      <td>2.25</td>\n",
       "      <td>2570</td>\n",
       "      <td>7242</td>\n",
       "      <td>2.0</td>\n",
       "      <td>0</td>\n",
       "      <td>0</td>\n",
       "      <td>...</td>\n",
       "      <td>7</td>\n",
       "      <td>2170</td>\n",
       "      <td>400</td>\n",
       "      <td>1951</td>\n",
       "      <td>1991</td>\n",
       "      <td>98125</td>\n",
       "      <td>47.7210</td>\n",
       "      <td>-122.319</td>\n",
       "      <td>1690</td>\n",
       "      <td>7639</td>\n",
       "    </tr>\n",
       "    <tr>\n",
       "      <th>2</th>\n",
       "      <td>5631500400</td>\n",
       "      <td>20150225T000000</td>\n",
       "      <td>180000.0</td>\n",
       "      <td>2</td>\n",
       "      <td>1.00</td>\n",
       "      <td>770</td>\n",
       "      <td>10000</td>\n",
       "      <td>1.0</td>\n",
       "      <td>0</td>\n",
       "      <td>0</td>\n",
       "      <td>...</td>\n",
       "      <td>6</td>\n",
       "      <td>770</td>\n",
       "      <td>0</td>\n",
       "      <td>1933</td>\n",
       "      <td>0</td>\n",
       "      <td>98028</td>\n",
       "      <td>47.7379</td>\n",
       "      <td>-122.233</td>\n",
       "      <td>2720</td>\n",
       "      <td>8062</td>\n",
       "    </tr>\n",
       "    <tr>\n",
       "      <th>3</th>\n",
       "      <td>2487200875</td>\n",
       "      <td>20141209T000000</td>\n",
       "      <td>604000.0</td>\n",
       "      <td>4</td>\n",
       "      <td>3.00</td>\n",
       "      <td>1960</td>\n",
       "      <td>5000</td>\n",
       "      <td>1.0</td>\n",
       "      <td>0</td>\n",
       "      <td>0</td>\n",
       "      <td>...</td>\n",
       "      <td>7</td>\n",
       "      <td>1050</td>\n",
       "      <td>910</td>\n",
       "      <td>1965</td>\n",
       "      <td>0</td>\n",
       "      <td>98136</td>\n",
       "      <td>47.5208</td>\n",
       "      <td>-122.393</td>\n",
       "      <td>1360</td>\n",
       "      <td>5000</td>\n",
       "    </tr>\n",
       "    <tr>\n",
       "      <th>4</th>\n",
       "      <td>1954400510</td>\n",
       "      <td>20150218T000000</td>\n",
       "      <td>510000.0</td>\n",
       "      <td>3</td>\n",
       "      <td>2.00</td>\n",
       "      <td>1680</td>\n",
       "      <td>8080</td>\n",
       "      <td>1.0</td>\n",
       "      <td>0</td>\n",
       "      <td>0</td>\n",
       "      <td>...</td>\n",
       "      <td>8</td>\n",
       "      <td>1680</td>\n",
       "      <td>0</td>\n",
       "      <td>1987</td>\n",
       "      <td>0</td>\n",
       "      <td>98074</td>\n",
       "      <td>47.6168</td>\n",
       "      <td>-122.045</td>\n",
       "      <td>1800</td>\n",
       "      <td>7503</td>\n",
       "    </tr>\n",
       "  </tbody>\n",
       "</table>\n",
       "<p>5 rows × 21 columns</p>\n",
       "</div>"
      ],
      "text/plain": [
       "           id             date     price  bedrooms  bathrooms  sqft_living  \\\n",
       "0  7129300520  20141013T000000  221900.0         3       1.00         1180   \n",
       "1  6414100192  20141209T000000  538000.0         3       2.25         2570   \n",
       "2  5631500400  20150225T000000  180000.0         2       1.00          770   \n",
       "3  2487200875  20141209T000000  604000.0         4       3.00         1960   \n",
       "4  1954400510  20150218T000000  510000.0         3       2.00         1680   \n",
       "\n",
       "   sqft_lot  floors  waterfront  view  ...  grade  sqft_above  sqft_basement  \\\n",
       "0      5650     1.0           0     0  ...      7        1180              0   \n",
       "1      7242     2.0           0     0  ...      7        2170            400   \n",
       "2     10000     1.0           0     0  ...      6         770              0   \n",
       "3      5000     1.0           0     0  ...      7        1050            910   \n",
       "4      8080     1.0           0     0  ...      8        1680              0   \n",
       "\n",
       "   yr_built  yr_renovated  zipcode      lat     long  sqft_living15  \\\n",
       "0      1955             0    98178  47.5112 -122.257           1340   \n",
       "1      1951          1991    98125  47.7210 -122.319           1690   \n",
       "2      1933             0    98028  47.7379 -122.233           2720   \n",
       "3      1965             0    98136  47.5208 -122.393           1360   \n",
       "4      1987             0    98074  47.6168 -122.045           1800   \n",
       "\n",
       "   sqft_lot15  \n",
       "0        5650  \n",
       "1        7639  \n",
       "2        8062  \n",
       "3        5000  \n",
       "4        7503  \n",
       "\n",
       "[5 rows x 21 columns]"
      ]
     },
     "execution_count": 17,
     "metadata": {},
     "output_type": "execute_result"
    }
   ],
   "source": [
    "df_raw.head()"
   ]
  },
  {
   "cell_type": "markdown",
   "id": "655e043e",
   "metadata": {},
   "source": [
    "# Data Prepation"
   ]
  },
  {
   "cell_type": "code",
   "execution_count": 33,
   "id": "71650ae4",
   "metadata": {},
   "outputs": [],
   "source": [
    "# Features\n",
    "x_train = df_raw.drop(['price','date',], axis=1)\n",
    "\n",
    "# response variable\n",
    "y_train = df_raw['price'].copy()"
   ]
  },
  {
   "cell_type": "code",
   "execution_count": 42,
   "id": "0e61c82c",
   "metadata": {},
   "outputs": [
    {
     "name": "stdout",
     "output_type": "stream",
     "text": [
      "<class 'pandas.core.frame.DataFrame'>\n"
     ]
    }
   ],
   "source": [
    "#visualizando x_train e y_train\n",
    "x_train.head()\n",
    "print(type(x_train))"
   ]
  },
  {
   "cell_type": "code",
   "execution_count": 35,
   "id": "4517b8fb",
   "metadata": {},
   "outputs": [
    {
     "data": {
      "text/plain": [
       "0    221900.0\n",
       "1    538000.0\n",
       "2    180000.0\n",
       "3    604000.0\n",
       "4    510000.0\n",
       "Name: price, dtype: float64"
      ]
     },
     "execution_count": 35,
     "metadata": {},
     "output_type": "execute_result"
    }
   ],
   "source": [
    "y_train.head()"
   ]
  },
  {
   "cell_type": "markdown",
   "id": "14d388e2",
   "metadata": {},
   "source": [
    "# Model Traning"
   ]
  },
  {
   "cell_type": "code",
   "execution_count": 36,
   "id": "137aecd1",
   "metadata": {},
   "outputs": [
    {
     "data": {
      "text/plain": [
       "LinearRegression()"
      ]
     },
     "execution_count": 36,
     "metadata": {},
     "output_type": "execute_result"
    }
   ],
   "source": [
    "# model descripition\n",
    "model_lr = lm.LinearRegression()\n",
    "\n",
    "#model train... Olhar documentação quando aos requesitos de entrada de dados\n",
    "model_lr.fit( x_train, y_train )\n",
    "\n"
   ]
  },
  {
   "cell_type": "code",
   "execution_count": 38,
   "id": "7c6d75fd",
   "metadata": {},
   "outputs": [],
   "source": [
    "pred = model_lr.predict(x_train)"
   ]
  },
  {
   "cell_type": "code",
   "execution_count": 43,
   "id": "9c1a76b6",
   "metadata": {},
   "outputs": [
    {
     "data": {
      "text/plain": [
       "array([ 205766.26460964,  731219.64982989,  379097.88265415,\n",
       "        457424.13432536,  444789.05471812, 1451676.80046243,\n",
       "        277965.14285809,  135261.77208381,  329843.81624392,\n",
       "        250731.25050364,  870212.88141872,  437789.72121279,\n",
       "        600311.43498098,  316903.13655576,  611557.85739105,\n",
       "        944453.29692633,  456573.68626293,  539004.6948104 ,\n",
       "        335024.25629826,  210585.07434929,  466088.95603636,\n",
       "       1116489.11078669,  330386.45026642,  130784.11743749,\n",
       "        545423.99906283,  310538.2602699 ,  802018.1376489 ,\n",
       "        651875.20382829,  457699.206153  ,  650018.45024575,\n",
       "        541202.9217009 ,  332196.71884789,  655096.04733207,\n",
       "        555240.33756538,  319817.17474411,  804301.35470895,\n",
       "        201145.17195318,  861533.54324505,  103130.75983538,\n",
       "        585745.32147532,  664511.50307353,  742662.6062442 ,\n",
       "        863042.39845944,  508391.02023424,  153710.08047337,\n",
       "        811721.66516478,   32096.77784447,  762323.19584891,\n",
       "        417855.61065265, 1530097.62528221,  185578.71195408,\n",
       "        658157.92714009,  471090.2599712 ,  498290.25253088,\n",
       "        789802.2861764 ,  773293.96241434,  271727.39865384,\n",
       "        467150.37020329, 1056923.77322508,  443395.18842547,\n",
       "        694554.2446564 ,  237766.54435064,  598068.69850031,\n",
       "        408857.34579789,  376054.00863779,  744927.5513708 ,\n",
       "        879888.08105549,  321711.45186224,  121851.74702502,\n",
       "        783019.32595653, 1399362.5056916 ,  460538.49633775,\n",
       "        800124.29246181,  390335.05311713,  300689.96053685,\n",
       "        991726.69237257,  413248.79001212,  310476.8979959 ,\n",
       "        413980.07473524,  802185.44256444,  412926.15633985,\n",
       "        218377.0051095 ,  449654.5403266 ,  434848.80269796,\n",
       "        261756.27101988,  819846.02518002,  407338.51403978,\n",
       "        708935.7193133 ,  424310.54489828,  177895.94502963,\n",
       "        297041.36776164,  958741.14250691,  190018.37500696,\n",
       "        603396.37010424,  603396.37010424,  795519.96750255,\n",
       "        354071.72245303,  155387.93358114,  244625.66437802,\n",
       "        645182.95882835])"
      ]
     },
     "execution_count": 43,
     "metadata": {},
     "output_type": "execute_result"
    }
   ],
   "source": [
    "pred[0:100]"
   ]
  },
  {
   "cell_type": "markdown",
   "id": "79c15841",
   "metadata": {},
   "source": [
    "# Preformance Metrics "
   ]
  },
  {
   "cell_type": "code",
   "execution_count": 45,
   "id": "6db5b8d4",
   "metadata": {},
   "outputs": [],
   "source": [
    "df1 = df_raw.copy()"
   ]
  },
  {
   "cell_type": "code",
   "execution_count": 46,
   "id": "e05b636d",
   "metadata": {},
   "outputs": [],
   "source": [
    "df1['prediction'] = pred"
   ]
  },
  {
   "cell_type": "code",
   "execution_count": 56,
   "id": "56095d8e",
   "metadata": {},
   "outputs": [
    {
     "data": {
      "text/html": [
       "<div>\n",
       "<style scoped>\n",
       "    .dataframe tbody tr th:only-of-type {\n",
       "        vertical-align: middle;\n",
       "    }\n",
       "\n",
       "    .dataframe tbody tr th {\n",
       "        vertical-align: top;\n",
       "    }\n",
       "\n",
       "    .dataframe thead th {\n",
       "        text-align: right;\n",
       "    }\n",
       "</style>\n",
       "<table border=\"1\" class=\"dataframe\">\n",
       "  <thead>\n",
       "    <tr style=\"text-align: right;\">\n",
       "      <th></th>\n",
       "      <th>id</th>\n",
       "      <th>price</th>\n",
       "      <th>prediction</th>\n",
       "      <th>erro</th>\n",
       "      <th>erro_abs</th>\n",
       "    </tr>\n",
       "  </thead>\n",
       "  <tbody>\n",
       "    <tr>\n",
       "      <th>0</th>\n",
       "      <td>7129300520</td>\n",
       "      <td>221900.0</td>\n",
       "      <td>205766.264610</td>\n",
       "      <td>16133.735390</td>\n",
       "      <td>16133.735390</td>\n",
       "    </tr>\n",
       "    <tr>\n",
       "      <th>1</th>\n",
       "      <td>6414100192</td>\n",
       "      <td>538000.0</td>\n",
       "      <td>731219.649830</td>\n",
       "      <td>-193219.649830</td>\n",
       "      <td>193219.649830</td>\n",
       "    </tr>\n",
       "    <tr>\n",
       "      <th>2</th>\n",
       "      <td>5631500400</td>\n",
       "      <td>180000.0</td>\n",
       "      <td>379097.882654</td>\n",
       "      <td>-199097.882654</td>\n",
       "      <td>199097.882654</td>\n",
       "    </tr>\n",
       "    <tr>\n",
       "      <th>3</th>\n",
       "      <td>2487200875</td>\n",
       "      <td>604000.0</td>\n",
       "      <td>457424.134325</td>\n",
       "      <td>146575.865675</td>\n",
       "      <td>146575.865675</td>\n",
       "    </tr>\n",
       "    <tr>\n",
       "      <th>4</th>\n",
       "      <td>1954400510</td>\n",
       "      <td>510000.0</td>\n",
       "      <td>444789.054718</td>\n",
       "      <td>65210.945282</td>\n",
       "      <td>65210.945282</td>\n",
       "    </tr>\n",
       "  </tbody>\n",
       "</table>\n",
       "</div>"
      ],
      "text/plain": [
       "           id     price     prediction           erro       erro_abs\n",
       "0  7129300520  221900.0  205766.264610   16133.735390   16133.735390\n",
       "1  6414100192  538000.0  731219.649830 -193219.649830  193219.649830\n",
       "2  5631500400  180000.0  379097.882654 -199097.882654  199097.882654\n",
       "3  2487200875  604000.0  457424.134325  146575.865675  146575.865675\n",
       "4  1954400510  510000.0  444789.054718   65210.945282   65210.945282"
      ]
     },
     "execution_count": 56,
     "metadata": {},
     "output_type": "execute_result"
    }
   ],
   "source": [
    "df1[['id','price','prediction','erro','erro_abs']].head()"
   ]
  },
  {
   "cell_type": "code",
   "execution_count": 106,
   "id": "873eb8dc",
   "metadata": {},
   "outputs": [],
   "source": [
    "#criando colunas com o erro de predição e de erro absoluto\n",
    "df1['erro'] = df1['price'] - df1['prediction']\n",
    "df1['erro_abs'] = np.abs(df1['erro'])\n",
    "\n",
    "#criando coluna de erro porcentual\n",
    "df1['erro_perc_abs'] = ( df1['erro_abs'])/df1['price']\n"
   ]
  },
  {
   "cell_type": "code",
   "execution_count": 107,
   "id": "b764bdbb",
   "metadata": {},
   "outputs": [
    {
     "data": {
      "text/plain": [
       "125921.54419398315"
      ]
     },
     "execution_count": 107,
     "metadata": {},
     "output_type": "execute_result"
    }
   ],
   "source": [
    "np.mean(df1['erro_abs'])"
   ]
  },
  {
   "cell_type": "code",
   "execution_count": 108,
   "id": "ec742817",
   "metadata": {},
   "outputs": [
    {
     "name": "stdout",
     "output_type": "stream",
     "text": [
      "0    0.072707\n",
      "1    0.359144\n",
      "2    1.106099\n",
      "3    0.242675\n",
      "4    0.127865\n",
      "Name: erro_perc_abs, dtype: float64\n",
      "\n",
      "\n",
      "média procentual dos erros absolutos:  0.25580512536186784\n"
     ]
    }
   ],
   "source": [
    "#Printando a média procentual dos erros\n",
    "np.mean(df1['erro_perc_abs'])\n",
    "\n",
    "print(df1['erro_perc_abs'].head())\n",
    "\n",
    "print('\\n')\n",
    "\n",
    "print(\"média procentual dos erros absolutos: \",np.mean(df1['erro_perc_abs']) )"
   ]
  },
  {
   "cell_type": "markdown",
   "id": "8a7c214b",
   "metadata": {},
   "source": [
    "# Extra, explorando em paralelo\n"
   ]
  },
  {
   "cell_type": "code",
   "execution_count": 109,
   "id": "7822e181",
   "metadata": {},
   "outputs": [],
   "source": [
    "### EXTRA - procurando um diagrama de disperção no maplotlib para tentar\n",
    "# visualizar e distribução dos erros "
   ]
  },
  {
   "cell_type": "code",
   "execution_count": 110,
   "id": "7c8323e1",
   "metadata": {},
   "outputs": [
    {
     "data": {
      "text/plain": [
       "pandas.core.series.Series"
      ]
     },
     "execution_count": 110,
     "metadata": {},
     "output_type": "execute_result"
    }
   ],
   "source": [
    "type(df1['erro_perc_abs'])"
   ]
  },
  {
   "cell_type": "code",
   "execution_count": 111,
   "id": "cd02a065",
   "metadata": {},
   "outputs": [
    {
     "data": {
      "text/plain": [
       "<function matplotlib.pyplot.show(close=None, block=None)>"
      ]
     },
     "execution_count": 111,
     "metadata": {},
     "output_type": "execute_result"
    },
    {
     "data": {
      "image/png": "[encoded data removed]",
      "text/plain": [
       "<Figure size 432x288 with 1 Axes>"
      ]
     },
     "metadata": {
      "needs_background": "light"
     },
     "output_type": "display_data"
    }
   ],
   "source": [
    "## Criando visualização\n",
    "\n",
    "# criando histograma do erro porcentual\n",
    "plt.hist(df1['erro_perc_abs'],bins=100, range=(0,2), density=True )\n",
    "\n",
    "#criando e personalizando\n",
    "plt.title(\"histograma de erro porcentual\")\n",
    "plt.xlabel('erro porcentual')\n",
    "plt.ylabel('Frenquência do erro')\n",
    "#criando grande\n",
    "plt.grid(True)\n",
    "\n",
    "\n",
    "#exibindo o hist\n",
    "\n",
    "plt.show"
   ]
  },
  {
   "cell_type": "markdown",
   "id": "89cc93d5",
   "metadata": {},
   "source": [
    "# Voltando a aula...\n"
   ]
  },
  {
   "cell_type": "code",
   "execution_count": 112,
   "id": "4c4447fc",
   "metadata": {},
   "outputs": [],
   "source": [
    "# nomeando os parâmetros\n",
    "\n",
    "# >>> MAPE é o erro percentual absoluto médio\n",
    "# >>> MAE, Mean Absolut Error, ou \"erro absoluto médio\"\n",
    "\n",
    "#Ou seja... \n",
    "\n",
    "MAPE = np.mean(df1['erro_perc_abs'])\n",
    "MAE = np.mean(df1['erro_abs'])"
   ]
  },
  {
   "cell_type": "code",
   "execution_count": 114,
   "id": "75f2121a",
   "metadata": {},
   "outputs": [
    {
     "name": "stdout",
     "output_type": "stream",
     "text": [
      "MAPE:  0.25580512536186784 \n",
      "\n",
      "MAE:  125921.54419398315\n"
     ]
    }
   ],
   "source": [
    "print(\"MAPE: \", MAPE,'\\n')\n",
    "print('MAE: ', MAE)\n"
   ]
  },
  {
   "cell_type": "markdown",
   "id": "57f2b630",
   "metadata": {},
   "source": [
    "# Aula 2 - entendendo overfitting e underfitting"
   ]
  },
  {
   "cell_type": "code",
   "execution_count": 154,
   "id": "18c43321",
   "metadata": {},
   "outputs": [],
   "source": [
    "#primeiramente iremos separar nossos dados em 2 grupos, um de teste e um de treino\n",
    "\n",
    "#recriando a feartures para treinar\n",
    "X = df_raw.drop(['price','date' ], axis=1)\n",
    "\n",
    "\n",
    "#recriando o response variable \n",
    "y = df_raw['price'].copy()\n",
    "\n"
   ]
  },
  {
   "cell_type": "code",
   "execution_count": 155,
   "id": "d3b2b02e",
   "metadata": {},
   "outputs": [],
   "source": [
    "# separando os dados com uma função\n",
    "\n",
    "x_train, x_test, y_train, y_test = train_test_split( X, y, test_size=0.2, random_state=42 )"
   ]
  },
  {
   "cell_type": "markdown",
   "id": "fc955b06",
   "metadata": {},
   "source": [
    "# Model Traning"
   ]
  },
  {
   "cell_type": "code",
   "execution_count": null,
   "id": "12597a0e",
   "metadata": {},
   "outputs": [],
   "source": []
  },
  {
   "cell_type": "code",
   "execution_count": 156,
   "id": "7323d0a9",
   "metadata": {},
   "outputs": [
    {
     "data": {
      "text/plain": [
       "LinearRegression()"
      ]
     },
     "execution_count": 156,
     "metadata": {},
     "output_type": "execute_result"
    }
   ],
   "source": [
    "# model descripition\n",
    "model_lr = lm.LinearRegression()\n",
    "\n",
    "#model train... Olhar documentação quando aos requesitos de entrada de dados\n",
    "model_lr.fit( x_train, y_train )\n",
    "\n"
   ]
  },
  {
   "cell_type": "code",
   "execution_count": 157,
   "id": "82678f9e",
   "metadata": {},
   "outputs": [],
   "source": [
    "# prediction - dados de treino \n",
    "\n",
    "#de treino\n",
    "pred_train = model_lr.predict(x_train)\n",
    "\n",
    "#de teste\n",
    "pred_test = model_lr.predict(x_test)\n",
    "\n"
   ]
  },
  {
   "cell_type": "markdown",
   "id": "2f64be75",
   "metadata": {},
   "source": [
    "# Performance\n"
   ]
  },
  {
   "cell_type": "code",
   "execution_count": 159,
   "id": "7ea34360",
   "metadata": {},
   "outputs": [],
   "source": [
    "# MAE e MAPE de train\n",
    "mae_train = m.mean_absolute_error( y_train, pred_train)\n",
    "mape_train = np.mean(np.abs((y_train - pred_train)/y_train))\n",
    "\n",
    "# MAE e MAPE de test\n",
    "mae_test = m.mean_absolute_error( y_test, pred_test)\n",
    "mape_test = np.mean(np.abs((y_test - pred_test)/y_test))\n"
   ]
  },
  {
   "cell_type": "code",
   "execution_count": 163,
   "id": "b9ce1483",
   "metadata": {},
   "outputs": [
    {
     "data": {
      "text/html": [
       "<div>\n",
       "<style scoped>\n",
       "    .dataframe tbody tr th:only-of-type {\n",
       "        vertical-align: middle;\n",
       "    }\n",
       "\n",
       "    .dataframe tbody tr th {\n",
       "        vertical-align: top;\n",
       "    }\n",
       "\n",
       "    .dataframe thead th {\n",
       "        text-align: right;\n",
       "    }\n",
       "</style>\n",
       "<table border=\"1\" class=\"dataframe\">\n",
       "  <thead>\n",
       "    <tr style=\"text-align: right;\">\n",
       "      <th></th>\n",
       "      <th>Dataframe</th>\n",
       "      <th>MAE</th>\n",
       "      <th>MAPE</th>\n",
       "    </tr>\n",
       "  </thead>\n",
       "  <tbody>\n",
       "    <tr>\n",
       "      <th>0</th>\n",
       "      <td>trainig</td>\n",
       "      <td>125042.255205</td>\n",
       "      <td>0.25542</td>\n",
       "    </tr>\n",
       "    <tr>\n",
       "      <th>1</th>\n",
       "      <td>test</td>\n",
       "      <td>127474.102963</td>\n",
       "      <td>0.24959</td>\n",
       "    </tr>\n",
       "  </tbody>\n",
       "</table>\n",
       "</div>"
      ],
      "text/plain": [
       "  Dataframe            MAE     MAPE\n",
       "0   trainig  125042.255205  0.25542\n",
       "1      test  127474.102963  0.24959"
      ]
     },
     "execution_count": 163,
     "metadata": {},
     "output_type": "execute_result"
    }
   ],
   "source": [
    "#crinado uma df para armazenar os resultados\n",
    "\n",
    "data = {\n",
    "    'Dataframe':['trainig', 'test'],\n",
    "    'MAE': [mae_train,mae_test],\n",
    "    'MAPE':[mape_train, mape_test]\n",
    "}\n",
    "\n",
    "pd.DataFrame(data)\n",
    "\n"
   ]
  },
  {
   "cell_type": "code",
   "execution_count": null,
   "id": "552a82d8",
   "metadata": {},
   "outputs": [],
   "source": []
  }
 ],
 "metadata": {
  "kernelspec": {
   "display_name": "Python 3 (ipykernel)",
   "language": "python",
   "name": "python3"
  },
  "language_info": {
   "codemirror_mode": {
    "name": "ipython",
    "version": 3
   },
   "file_extension": ".py",
   "mimetype": "text/x-python",
   "name": "python",
   "nbconvert_exporter": "python",
   "pygments_lexer": "ipython3",
   "version": "3.9.7"
  }
 },
 "nbformat": 4,
 "nbformat_minor": 5
}
