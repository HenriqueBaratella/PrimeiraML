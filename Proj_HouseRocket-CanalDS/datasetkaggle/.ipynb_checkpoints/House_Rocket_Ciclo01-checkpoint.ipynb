{
 "cells": [
  {
   "cell_type": "markdown",
   "id": "97205700",
   "metadata": {},
   "source": [
    "# Explorando q tentando trabalhar seguindo essas série de vídeos:\n",
    "\n",
    "https://www.youtube.com/watch?v=ZjRkGSBCVwM&list=PLZlkyCIi8bMot7zPA18szWVAmChYLoAa3&ab_channel=SejaUmDataScientist\n",
    "\n"
   ]
  },
  {
   "cell_type": "markdown",
   "id": "64934510",
   "metadata": {},
   "source": [
    "# Imports:\n"
   ]
  },
  {
   "cell_type": "markdown",
   "id": "f922d43a",
   "metadata": {},
   "source": [
    "#Data Preparation"
   ]
  }
 ],
 "metadata": {
  "kernelspec": {
   "display_name": "Python 3 (ipykernel)",
   "language": "python",
   "name": "python3"
  },
  "language_info": {
   "codemirror_mode": {
    "name": "ipython",
    "version": 3
   },
   "file_extension": ".py",
   "mimetype": "text/x-python",
   "name": "python",
   "nbconvert_exporter": "python",
   "pygments_lexer": "ipython3",
   "version": "3.9.7"
  }
 },
 "nbformat": 4,
 "nbformat_minor": 5
}
